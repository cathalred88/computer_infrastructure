{
 "cells": [
  {
   "cell_type": "markdown",
   "id": "70991829",
   "metadata": {},
   "source": [
    "# Problems\n"
   ]
  },
  {
   "cell_type": "code",
   "execution_count": null,
   "id": "2366791a",
   "metadata": {
    "vscode": {
     "languageId": "plaintext"
    }
   },
   "outputs": [],
   "source": [
    "# Code for problems will go in these cells"
   ]
  },
  {
   "cell_type": "markdown",
   "id": "03e7170f",
   "metadata": {},
   "source": [
    "# End"
   ]
  }
 ],
 "metadata": {
  "language_info": {
   "name": "python"
  }
 },
 "nbformat": 4,
 "nbformat_minor": 5
}
