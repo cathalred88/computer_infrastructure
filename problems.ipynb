{
 "cells": [
  {
   "cell_type": "markdown",
   "id": "70991829",
   "metadata": {},
   "source": [
    "# Problems\n"
   ]
  },
  {
   "cell_type": "markdown",
   "id": "6c4006c1",
   "metadata": {},
   "source": [
    "Instructions are given on this website: https://github.com/ianmcloughlin/computer-infrastructure/blob/main/assessment/problems.md\n",
    "\n",
    "The problem is broken into 4 segments: \n",
    "1. Import Data from yFinance. Write a function called get_data() for this. \n",
    "\n",
    "2. Plotting Data. write a function  called plot_data() for this\n",
    "\n",
    "3. Script. Write a script called faang.py() in the root of the repositry for this. This will pull the functions above when someone enters ./faang.py into the terminal and hits the return key. This script will pull the data and create the plot. \n",
    "\n",
    "4. Automation. This will creata a Github actions workflow to run the script every saturday morning. This will be called faang.yml , and will be located in a .github/workflows/ folder in the root of the repository. "
   ]
  },
  {
   "cell_type": "code",
   "execution_count": null,
   "id": "2366791a",
   "metadata": {
    "vscode": {
     "languageId": "plaintext"
    }
   },
   "outputs": [],
   "source": [
    "# Code for problems will go in these cells"
   ]
  },
  {
   "cell_type": "markdown",
   "id": "03e7170f",
   "metadata": {},
   "source": [
    "# End"
   ]
  }
 ],
 "metadata": {
  "language_info": {
   "name": "python"
  }
 },
 "nbformat": 4,
 "nbformat_minor": 5
}
