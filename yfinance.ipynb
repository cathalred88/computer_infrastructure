{
 "cells": [
  {
   "cell_type": "markdown",
   "id": "4128880f",
   "metadata": {},
   "source": [
    "# yFinance\n",
    "Links for References used for this excercise: \n",
    "1. https://github.com/ranaroussi/yfinance\n",
    "2. https://www.geeksforgeeks.org/python/multithreaded-download-of-yahoo-stock-history-with-python-yfinance/\n",
    "3. for handling dates and time: https://docs.python.org/3/library/datetime.html & https://stackoverflow.com/questions/32490629/getting-todays-date-in-yyyy-mm-dd-in-python"
   ]
  },
  {
   "cell_type": "code",
   "execution_count": 56,
   "id": "f82f62aa",
   "metadata": {},
   "outputs": [
    {
     "name": "stderr",
     "output_type": "stream",
     "text": [
      "[*********************100%***********************]  5 of 5 completed"
     ]
    },
    {
     "name": "stdout",
     "output_type": "stream",
     "text": [
      "Today's date is  2025-10-08\n",
      "Five days ago was  2025-10-03\n",
      "(25, 3)\n",
      "META\n",
      "Date      2025-10-03    2025-10-06    2025-10-07\n",
      "Price                                           \n",
      "Open    7.296300e+02  7.051900e+02  7.177200e+02\n",
      "High    7.310000e+02  7.168800e+02  7.185000e+02\n",
      "Low     7.101800e+02  6.905100e+02  7.057500e+02\n",
      "Close   7.105600e+02  7.156600e+02  7.130800e+02\n",
      "Volume  1.615430e+07  2.165470e+07  1.203590e+07\n",
      "\n",
      "\n",
      "AAPL\n",
      "Date      2025-10-03    2025-10-06    2025-10-07\n",
      "Price                                           \n",
      "Open    2.546700e+02  2.579900e+02  2.568100e+02\n",
      "High    2.592400e+02  2.590700e+02  2.574000e+02\n",
      "Low     2.539500e+02  2.550500e+02  2.554300e+02\n",
      "Close   2.580200e+02  2.566900e+02  2.564800e+02\n",
      "Volume  4.915560e+07  4.466410e+07  3.192370e+07\n",
      "\n",
      "\n",
      "AMZN\n",
      "Date      2025-10-03    2025-10-06    2025-10-07\n",
      "Price                                           \n",
      "Open    2.234400e+02  2.210000e+02  2.208800e+02\n",
      "High    2.242000e+02  2.217300e+02  2.228900e+02\n",
      "Low     2.193400e+02  2.160300e+02  2.201700e+02\n",
      "Close   2.195100e+02  2.209000e+02  2.217800e+02\n",
      "Volume  4.363900e+07  4.369090e+07  3.114350e+07\n",
      "\n",
      "\n",
      "NFLX\n",
      "Date      2025-10-03    2025-10-06    2025-10-07\n",
      "Price                                           \n",
      "Open    1.165000e+03  1.160370e+03  1.177790e+03\n",
      "High    1.168000e+03  1.163580e+03  1.201370e+03\n",
      "Low     1.143220e+03  1.145450e+03  1.177460e+03\n",
      "Close   1.153320e+03  1.163310e+03  1.191060e+03\n",
      "Volume  3.137400e+06  2.968600e+06  3.306300e+06\n",
      "\n",
      "\n",
      "GOOG\n",
      "Date      2025-10-03    2025-10-06    2025-10-07\n",
      "Price                                           \n",
      "Open    2.452300e+02  2.457800e+02  2.489300e+02\n",
      "High    2.471180e+02  2.522000e+02  2.515500e+02\n",
      "Low     2.424700e+02  2.456900e+02  2.468100e+02\n",
      "Close   2.464500e+02  2.515100e+02  2.471300e+02\n",
      "Volume  1.994140e+07  1.830900e+07  1.380270e+07\n",
      "\n",
      "\n",
      "The program takes  0.07221198081970215 seconds.\n"
     ]
    },
    {
     "name": "stderr",
     "output_type": "stream",
     "text": [
      "\n"
     ]
    }
   ],
   "source": [
    "# yahoo finance data. \n",
    "import yfinance as yf\n",
    "import time\n",
    "import datetime\n",
    "\n",
    "# define program start time and dates for use in calculations \n",
    "start= time.time()\n",
    "today = datetime.date.today()\n",
    "fivedaysago = today - datetime.timedelta(days=5)\n",
    "\n",
    "# Convert dates to string type data as is required by the yf.download function\n",
    "strtoday = str(today)\n",
    "strfivedaysago =str(fivedaysago)\n",
    "\n",
    "#Checking the formats of the dates are correct\n",
    "    #print (type(strtoday))\n",
    "    #print (type(strfivedaysago))\n",
    "print (f\"Today's date is \",today)\n",
    "print (f\"Five days ago was \",fivedaysago)\n",
    "\n",
    "# define a list of stocks to track\n",
    "ticker_list =['META','AAPL','AMZN','NFLX','GOOG']\n",
    "\n",
    "# Define the functon for collecting the data we want.\n",
    "    # Start date will be 5 days ago as per instructions. \n",
    "    # End date will be the date the script is ran on. \n",
    "    # Tickers list is the list of stocks to watch. \n",
    "    # Threads allows for the multithread download of stock data - this reduces the time taken to run the script.  \n",
    "    # group_by allows for the data to be organised by different columns. \n",
    "data =yf.download( \n",
    "    start= strfivedaysago,\n",
    "    end= strtoday,\n",
    "    tickers = ticker_list,\n",
    "    threads=True,\n",
    "    group_by='ticker',\n",
    "    auto_adjust = True,\n",
    ")\n",
    "\n",
    "# Transpose the data to allow data to be read from dataframe. \n",
    "data =data.T \n",
    "\n",
    "# I was concerned i was not seeing 5 days worth of data here, \n",
    "# But then realised the stock market does not open Saturday or Sunday, so no data exists for those requests and none is returned into the dataframe. \n",
    "print(data.shape)\n",
    "\n",
    "for t in ticker_list: \n",
    "    print(t)   \n",
    "    print(data.loc[t])\n",
    "    print(\"\\n\")\n",
    "\n",
    "# This segment allows for monitoring the time taken to complete the execution of the program. \n",
    "print ('The program takes ', time.time()-start,'seconds.')"
   ]
  },
  {
   "cell_type": "code",
   "execution_count": null,
   "id": "6326f377",
   "metadata": {},
   "outputs": [],
   "source": []
  },
  {
   "cell_type": "markdown",
   "id": "3202386a",
   "metadata": {},
   "source": [
    "## End"
   ]
  }
 ],
 "metadata": {
  "kernelspec": {
   "display_name": "Python 3",
   "language": "python",
   "name": "python3"
  },
  "language_info": {
   "codemirror_mode": {
    "name": "ipython",
    "version": 3
   },
   "file_extension": ".py",
   "mimetype": "text/x-python",
   "name": "python",
   "nbconvert_exporter": "python",
   "pygments_lexer": "ipython3",
   "version": "3.12.1"
  }
 },
 "nbformat": 4,
 "nbformat_minor": 5
}
